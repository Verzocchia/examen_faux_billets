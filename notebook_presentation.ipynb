{
 "cells": [
  {
   "cell_type": "markdown",
   "id": "2348b35e",
   "metadata": {},
   "source": [
    "### Sommaire\n",
    "\n",
    "* [Exploration et nettoyage des données](#p1)\n",
    "    * [Exploration](#explo)\n",
    "        * [Renommage des colonnes](#rename)\n",
    "        * [Description des données](#describe)\n",
    "    * [Nettoyage](#nettoyage)\n",
    "        * [Prediction des données pour la marge basse](#marge_basse)\n",
    "    * [Analyse des données existantes](#analyse)\n",
    "\n",
    "* [Creation de l'outil de reconnaissance de billets](#outil)\n",
    "    * []"
   ]
  },
  {
   "cell_type": "code",
   "execution_count": 1,
   "id": "b7d3b003",
   "metadata": {},
   "outputs": [],
   "source": [
    "import numpy as np \n",
    "from scipy.stats import iqr \n",
    "import pandas as pd \n",
    "from sklearn.ensemble import RandomForestRegressor\n",
    "\n",
    "import matplotlib.pyplot as plt\n",
    "import seaborn as sns  "
   ]
  },
  {
   "cell_type": "code",
   "execution_count": null,
   "id": "0d9535de",
   "metadata": {},
   "outputs": [],
   "source": []
  }
 ],
 "metadata": {
  "kernelspec": {
   "display_name": "env_ocr",
   "language": "python",
   "name": "python3"
  },
  "language_info": {
   "codemirror_mode": {
    "name": "ipython",
    "version": 3
   },
   "file_extension": ".py",
   "mimetype": "text/x-python",
   "name": "python",
   "nbconvert_exporter": "python",
   "pygments_lexer": "ipython3",
   "version": "3.13.0"
  }
 },
 "nbformat": 4,
 "nbformat_minor": 5
}
